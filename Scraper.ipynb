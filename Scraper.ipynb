{
 "cells": [
  {
   "cell_type": "code",
   "execution_count": 5,
   "metadata": {},
   "outputs": [
    {
     "data": {
      "text/plain": [
       "<Response [200]>"
      ]
     },
     "execution_count": 5,
     "metadata": {},
     "output_type": "execute_result"
    }
   ],
   "source": [
    "import requests\n",
    "page = requests.get('https://www.basketball-reference.com/players/a/')\n",
    "page"
   ]
  },
  {
   "cell_type": "code",
   "execution_count": 7,
   "metadata": {},
   "outputs": [],
   "source": [
    "from bs4 import BeautifulSoup\n",
    "soup = BeautifulSoup(page.content, 'html.parser')"
   ]
  },
  {
   "cell_type": "code",
   "execution_count": 31,
   "metadata": {},
   "outputs": [
    {
     "data": {
      "text/plain": [
       "'<th class=\"left\" data-append-csv=\"abdelal01\" data-stat=\"player\" scope=\"row\"><a href=\"/players/a/abdelal01.html\">Alaa Abdelnaby</a></th>'"
      ]
     },
     "execution_count": 31,
     "metadata": {},
     "output_type": "execute_result"
    }
   ],
   "source": [
    "results = soup.find_all('th', class_=\"left\")\n",
    "str(results[0])"
   ]
  },
  {
   "cell_type": "code",
   "execution_count": 26,
   "metadata": {},
   "outputs": [],
   "source": [
    "import re"
   ]
  },
  {
   "cell_type": "code",
   "execution_count": 29,
   "metadata": {},
   "outputs": [],
   "source": [
    "pattern = 'data-append-csv=\"\\w*\\d\\d\"'"
   ]
  },
  {
   "cell_type": "code",
   "execution_count": 38,
   "metadata": {},
   "outputs": [
    {
     "data": {
      "text/plain": [
       "list"
      ]
     },
     "execution_count": 38,
     "metadata": {},
     "output_type": "execute_result"
    }
   ],
   "source": [
    "match = re.findall(pattern, str(results[0]))\n",
    "type(match)"
   ]
  },
  {
   "cell_type": "code",
   "execution_count": 42,
   "metadata": {},
   "outputs": [],
   "source": [
    "match = re.findall(r'\\w*\\d\\d', str(match))"
   ]
  },
  {
   "cell_type": "code",
   "execution_count": 46,
   "metadata": {},
   "outputs": [],
   "source": [
    "name = ''.join(match)"
   ]
  },
  {
   "cell_type": "code",
   "execution_count": 47,
   "metadata": {},
   "outputs": [],
   "source": [
    "names = []\n",
    "for result in results:\n",
    "    result = str(result)\n",
    "    match = re.findall(r'data-append-csv=\"\\w*\\d\\d\"', result)\n",
    "    match = re.findall(r'\\w*\\d\\d', str(match))\n",
    "    name = ''.join(match)\n",
    "    names.append(name)"
   ]
  },
  {
   "cell_type": "code",
   "execution_count": 50,
   "metadata": {},
   "outputs": [
    {
     "ename": "XMLSyntaxError",
     "evalue": "no text parsed from document (<string>, line 0)",
     "output_type": "error",
     "traceback": [
      "Traceback \u001b[1;36m(most recent call last)\u001b[0m:\n",
      "  File \u001b[0;32m\"C:\\Users\\jpzam\\Anaconda3\\envs\\2k_stat_627\\lib\\site-packages\\IPython\\core\\interactiveshell.py\"\u001b[0m, line \u001b[0;32m3418\u001b[0m, in \u001b[0;35mrun_code\u001b[0m\n    exec(code_obj, self.user_global_ns, self.user_ns)\n",
      "  File \u001b[0;32m\"<ipython-input-50-6cd453b53f7e>\"\u001b[0m, line \u001b[0;32m4\u001b[0m, in \u001b[0;35m<module>\u001b[0m\n    df = pd.read_html(f'https://www.basketball-reference.com/players/a/{name}.html')[0]\n",
      "  File \u001b[0;32m\"C:\\Users\\jpzam\\Anaconda3\\envs\\2k_stat_627\\lib\\site-packages\\pandas\\util\\_decorators.py\"\u001b[0m, line \u001b[0;32m296\u001b[0m, in \u001b[0;35mwrapper\u001b[0m\n    return func(*args, **kwargs)\n",
      "  File \u001b[0;32m\"C:\\Users\\jpzam\\Anaconda3\\envs\\2k_stat_627\\lib\\site-packages\\pandas\\io\\html.py\"\u001b[0m, line \u001b[0;32m1086\u001b[0m, in \u001b[0;35mread_html\u001b[0m\n    return _parse(\n",
      "  File \u001b[0;32m\"C:\\Users\\jpzam\\Anaconda3\\envs\\2k_stat_627\\lib\\site-packages\\pandas\\io\\html.py\"\u001b[0m, line \u001b[0;32m898\u001b[0m, in \u001b[0;35m_parse\u001b[0m\n    tables = p.parse_tables()\n",
      "  File \u001b[0;32m\"C:\\Users\\jpzam\\Anaconda3\\envs\\2k_stat_627\\lib\\site-packages\\pandas\\io\\html.py\"\u001b[0m, line \u001b[0;32m217\u001b[0m, in \u001b[0;35mparse_tables\u001b[0m\n    tables = self._parse_tables(self._build_doc(), self.match, self.attrs)\n",
      "\u001b[1;36m  File \u001b[1;32m\"C:\\Users\\jpzam\\Anaconda3\\envs\\2k_stat_627\\lib\\site-packages\\pandas\\io\\html.py\"\u001b[1;36m, line \u001b[1;32m739\u001b[1;36m, in \u001b[1;35m_build_doc\u001b[1;36m\u001b[0m\n\u001b[1;33m    raise XMLSyntaxError(\"no text parsed from document\", 0, 0, 0)\u001b[0m\n",
      "\u001b[1;36m  File \u001b[1;32m\"<string>\"\u001b[1;36m, line \u001b[1;32munknown\u001b[0m\n\u001b[1;31mXMLSyntaxError\u001b[0m\u001b[1;31m:\u001b[0m no text parsed from document\n"
     ]
    }
   ],
   "source": [
    "dfs = []\n",
    "\n",
    "for name in names:\n",
    "    df = pd.read_html(f'https://www.basketball-reference.com/players/a/{name}.html')[0]\n",
    "    dfs.append(df)\n",
    "\n",
    "dfa = pd.concat(dfs)"
   ]
  },
  {
   "cell_type": "code",
   "execution_count": null,
   "metadata": {},
   "outputs": [],
   "source": []
  }
 ],
 "metadata": {
  "kernelspec": {
   "display_name": "Python 3",
   "language": "python",
   "name": "python3"
  },
  "language_info": {
   "codemirror_mode": {
    "name": "ipython",
    "version": 3
   },
   "file_extension": ".py",
   "mimetype": "text/x-python",
   "name": "python",
   "nbconvert_exporter": "python",
   "pygments_lexer": "ipython3",
   "version": "3.8.5"
  }
 },
 "nbformat": 4,
 "nbformat_minor": 4
}
