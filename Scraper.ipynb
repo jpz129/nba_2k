{
 "cells": [
  {
   "cell_type": "code",
   "execution_count": 1,
   "metadata": {},
   "outputs": [
    {
     "data": {
      "text/plain": [
       "<Response [200]>"
      ]
     },
     "execution_count": 1,
     "metadata": {},
     "output_type": "execute_result"
    }
   ],
   "source": [
    "import requests\n",
    "page = requests.get('https://www.basketball-reference.com/players/a/')\n",
    "page"
   ]
  },
  {
   "cell_type": "code",
   "execution_count": 2,
   "metadata": {},
   "outputs": [],
   "source": [
    "from bs4 import BeautifulSoup\n",
    "soup = BeautifulSoup(page.content, 'html.parser')"
   ]
  },
  {
   "cell_type": "code",
   "execution_count": 3,
   "metadata": {},
   "outputs": [
    {
     "data": {
      "text/plain": [
       "'<th class=\"left\" data-append-csv=\"abdelal01\" data-stat=\"player\" scope=\"row\"><a href=\"/players/a/abdelal01.html\">Alaa Abdelnaby</a></th>'"
      ]
     },
     "execution_count": 3,
     "metadata": {},
     "output_type": "execute_result"
    }
   ],
   "source": [
    "results = soup.find_all('th', class_=\"left\")\n",
    "str(results[0])"
   ]
  },
  {
   "cell_type": "code",
   "execution_count": 4,
   "metadata": {},
   "outputs": [],
   "source": [
    "import re"
   ]
  },
  {
   "cell_type": "code",
   "execution_count": 5,
   "metadata": {},
   "outputs": [],
   "source": [
    "# pattern = 'data-append-csv=\"\\w*\\d\\d\"'\n",
    "\n",
    "# match = re.findall(pattern, str(results[0]))\n",
    "# type(match)\n",
    "\n",
    "# match = re.findall(r'\\w*\\d\\d', str(match))\n",
    "\n",
    "# name = ''.join(match)"
   ]
  },
  {
   "cell_type": "code",
   "execution_count": 6,
   "metadata": {},
   "outputs": [],
   "source": [
    "# gives us the ids for html scrapping\n",
    "names = []\n",
    "for result in results:\n",
    "    result = str(result)\n",
    "    match = re.findall(r'data-append-csv=\"\\w*\\d\\d\"', result)\n",
    "    match = re.findall(r'\\w*\\d\\d', str(match))\n",
    "    name = ''.join(match)\n",
    "    names.append(name)"
   ]
  },
  {
   "cell_type": "code",
   "execution_count": 7,
   "metadata": {},
   "outputs": [],
   "source": [
    "# import pandas as pd\n",
    "\n",
    "# dfs = []\n",
    "\n",
    "# # compiling data for 'a' players\n",
    "# for name in names:\n",
    "#     try:\n",
    "#         df = pd.read_html(f'https://www.basketball-reference.com/players/a/{name}.html')[0]\n",
    "#         df['ID'] = name\n",
    "#         dfs.append(df)\n",
    "#     except:\n",
    "#         pass\n",
    "\n",
    "# # merging data together\n",
    "# dfa = pd.concat(dfs)"
   ]
  },
  {
   "cell_type": "code",
   "execution_count": 8,
   "metadata": {},
   "outputs": [],
   "source": [
    "def name_grabber(letter: str):\n",
    "    '''\n",
    "    Extracts basketball reference ID from html table and creates proper URL reference.\n",
    "    '''\n",
    "    page = requests.get(f'https://www.basketball-reference.com/players/{letter}/')\n",
    "    \n",
    "    soup = BeautifulSoup(page.content, 'html.parser')\n",
    "    \n",
    "    results = soup.find_all('th', class_=\"left\")\n",
    "    \n",
    "    names = []\n",
    "    \n",
    "    for result in results:\n",
    "        result = str(result)\n",
    "        match = re.findall(r'data-append-csv=\"\\w*\\d\\d\"', result)\n",
    "        match = re.findall(r'\\w*\\d\\d', str(match))\n",
    "        name = ''.join(match)\n",
    "        names.append((name, f'https://www.basketball-reference.com/players/{letter}/{name}.html'))\n",
    "        \n",
    "    return names"
   ]
  },
  {
   "cell_type": "code",
   "execution_count": 9,
   "metadata": {},
   "outputs": [],
   "source": [
    "letters = 'a b c d e f g h i j k l m n o p q r s t u v w x y z'.split()\n",
    "\n",
    "results = [name_grabber(letter) for letter in letters]"
   ]
  },
  {
   "cell_type": "code",
   "execution_count": 10,
   "metadata": {},
   "outputs": [],
   "source": [
    "# flattening list\n",
    "results_flat = [y for x in results for y in x]\n",
    "# https://coderwall.com/p/rcmaea/flatten-a-list-of-lists-in-one-line-in-python"
   ]
  },
  {
   "cell_type": "code",
   "execution_count": null,
   "metadata": {},
   "outputs": [],
   "source": [
    "import pandas as pd\n",
    "\n",
    "dfs = []\n",
    "\n",
    "for name, url in results_flat:\n",
    "    try:\n",
    "        df = pd.read_html(url)[0]\n",
    "        df['ID'] = name\n",
    "        df['URL'] = url\n",
    "        dfs.append(df)\n",
    "    except:\n",
    "        pass\n",
    "\n",
    "df = pd.concat(dfs)"
   ]
  },
  {
   "cell_type": "code",
   "execution_count": null,
   "metadata": {},
   "outputs": [],
   "source": [
    "df"
   ]
  },
  {
   "cell_type": "code",
   "execution_count": null,
   "metadata": {},
   "outputs": [],
   "source": []
  }
 ],
 "metadata": {
  "kernelspec": {
   "display_name": "Python 3",
   "language": "python",
   "name": "python3"
  },
  "language_info": {
   "codemirror_mode": {
    "name": "ipython",
    "version": 3
   },
   "file_extension": ".py",
   "mimetype": "text/x-python",
   "name": "python",
   "nbconvert_exporter": "python",
   "pygments_lexer": "ipython3",
   "version": "3.8.5"
  }
 },
 "nbformat": 4,
 "nbformat_minor": 4
}
